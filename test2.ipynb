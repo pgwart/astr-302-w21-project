{
 "cells": [
  {
   "cell_type": "code",
   "execution_count": 1,
   "metadata": {},
   "outputs": [],
   "source": [
    "###  This module queries the SDSS data set to generate a scatter plot and Hess diagram.\n",
    "### The query finds all stars with g - r between -0.5 and 2.5 and g between 14 and 24\n",
    "### within a radius (in arcminutes) of a given RA and dec (in degrees).\n",
    "###\n",
    "###  To use, import into a Jupyter notebook and call the plots() function,\n",
    "### then specify parameters with widgets.\n",
    "\n",
    "import matplotlib.pyplot as plt\n",
    "import numpy as np\n",
    "from astroquery.sdss import SDSS\n",
    "from ipywidgets import interactive_output, IntSlider, FloatSlider, Layout, Text, jslink, GridBox, Dropdown, Button, FloatText\n",
    "\n",
    "def res(ra, dec, ang):\n",
    "    \"\"\"Fetches SDSS data with GetNearbyObj function and given parameters\"\"\"\n",
    "    query = \"\"\"\n",
    "        SELECT\n",
    "            s.ra, s.dec,\n",
    "            s.dered_g as g, s.dered_r as r,\n",
    "            s.err_g, s.err_r,\n",
    "            s.flags\n",
    "  \n",
    "        FROM\n",
    "            dbo.fGetNearbyObjEq({}, {}, {}) AS n\n",
    "        JOIN Star AS s ON n.objID = s.objID\n",
    "  \n",
    "        WHERE\n",
    "            g - r BETWEEN -0.5 AND 2.5\n",
    "            AND g BETWEEN 14 and 24\n",
    "        \"\"\".format(ra,dec,ang)\n",
    "        \n",
    "    return SDSS.query_sql(query, timeout = 600)\n",
    "\n",
    "#Create widgets\n",
    "style = {'description_width': 'initial'}\n",
    "\n",
    "#Boxes and sliders to control the parameters of the query function\n",
    "RABox = FloatText(value='229.0128', placeholder='', description='Right ascension (degrees)', style=style, disabled=False, grid_area = 'RABox')\n",
    "RASlider = FloatSlider(value=229.0128, min=0, max=360, continuous_update = False, grid_area = 'RASlider')\n",
    "\n",
    "DECBox = FloatText(value='-0.1082', placeholder='', description='Declination (degrees)', style=style, disabled=False, grid_area = 'DECBox')\n",
    "DECSlider = FloatSlider(value=-0.1082, min=-90, max=90, continuous_update = False, grid_area = 'DECSlider')\n",
    "\n",
    "radBox = FloatText(value='30', placeholder='', description='Radius (arcminutes)', style=style, disabled=False, grid_area = 'radBox')\n",
    "radSlider = FloatSlider(value=30, min=1, max=120, step=1, continuous_update = False, grid_area = 'radSlider')\n",
    "\n",
    "#Slider to control the grid size for the Hess diagram\n",
    "gridSlider = IntSlider(value=100, min=50, max=300, step=1, description='Grid size', style=style, continuous_update = False, grid_area = 'gridSlider')\n",
    "\n",
    "#Dropdown menu to select the color map for the Hess diagram\n",
    "hexDrop = Dropdown(options = ['viridis', 'plasma', 'inferno', 'magma', 'hot', 'winter', 'ocean', 'gray', 'binary'],\n",
    "                   value = 'viridis',\n",
    "                   description = 'Hess diagram colormap',\n",
    "                   style=style,\n",
    "                   disabled = False,\n",
    "                   grid_area = 'hexDrop'\n",
    "                )\n",
    "\n",
    "\n",
    "#Combine widgets into grid\n",
    "widgrid = GridBox(children = [RABox, RASlider, gridSlider, DECBox, DECSlider, hexDrop, radBox, radSlider],\n",
    "                  layout=Layout(\n",
    "                  width ='1300px',\n",
    "                  align_items = 'flex-start',\n",
    "                  grid_template_rows = 'auto auto auto',\n",
    "                  grid_template_columns = '25% 40% 35%',\n",
    "                  grid_template_areas = '''\n",
    "                  \"RABox RASlider gridSlider\"\n",
    "                  \"DECBox DECSlider hexDrop\"\n",
    "                  \"radBox radSlider . \"\n",
    "                  ''')\n",
    "                 ) \n",
    "#Link boxes with sliders\n",
    "RALink = jslink((RABox, 'value'), (RASlider, 'value'))\n",
    "DECLink = jslink((DECBox, 'value'), (DECSlider, 'value'))\n",
    "radLink = jslink((radBox, 'value'), (radSlider, 'value'))\n",
    "\n",
    "def generate_plots(gsize, ra, dec, ang, style):\n",
    "    \"\"\"Generates plots from queried data\"\"\"\n",
    "    r = res(ra, dec, ang)\n",
    "    \n",
    "    #Exception handling to prevent empty queries, e.g. unsurveyed areas, from causing an error\n",
    "    try:\n",
    "        g, gr = [r['g'], r['g']-r['r']]\n",
    "        fig, (ax1,ax2) = plt.subplots(1,2, figsize = (20,10))\n",
    "        ax1.scatter(r['ra'], r['dec'], marker='.', s=0.8)\n",
    "        ax2.hexbin(gr, g, gridsize = gsize, bins='log', cmap = style)\n",
    "        plt.ylim(24,14)\n",
    "        ax1.set_ylabel('Dec')\n",
    "        ax1.set_xlabel('RA')\n",
    "        ax2.set_ylabel('G')\n",
    "        ax2.set_xlabel('G-R')        \n",
    "    except:\n",
    "        fig, (ax1,ax2) = plt.subplots(1,2, figsize = (20,10))\n",
    "        \n",
    "    return\n",
    "\n",
    "def plots():\n",
    "    \"\"\"Displays widgets and plots\"\"\"\n",
    "    out = interactive_output(generate_plots, {'gsize':gridSlider, 'ra':RABox, 'ra':RASlider, 'dec':DECBox, 'dec':DECSlider, 'ang':radBox, 'ang':radSlider, 'style':hexDrop})\n",
    "    return display(widgrid, out)"
   ]
  },
  {
   "cell_type": "code",
   "execution_count": 2,
   "metadata": {},
   "outputs": [
    {
     "data": {
      "application/vnd.jupyter.widget-view+json": {
       "model_id": "9224649c53154388a3b49924d83f5b76",
       "version_major": 2,
       "version_minor": 0
      },
      "text/plain": [
       "GridBox(children=(FloatText(value=229.0128, description='Right ascension (degrees)', style=DescriptionStyle(de…"
      ]
     },
     "metadata": {},
     "output_type": "display_data"
    },
    {
     "data": {
      "application/vnd.jupyter.widget-view+json": {
       "model_id": "031207ec0c674593ace36ee439793b66",
       "version_major": 2,
       "version_minor": 0
      },
      "text/plain": [
       "Output()"
      ]
     },
     "metadata": {},
     "output_type": "display_data"
    }
   ],
   "source": [
    "plots()"
   ]
  },
  {
   "cell_type": "code",
   "execution_count": null,
   "metadata": {},
   "outputs": [],
   "source": []
  }
 ],
 "metadata": {
  "kernelspec": {
   "display_name": "Python 3",
   "language": "python",
   "name": "python3"
  },
  "language_info": {
   "codemirror_mode": {
    "name": "ipython",
    "version": 3
   },
   "file_extension": ".py",
   "mimetype": "text/x-python",
   "name": "python",
   "nbconvert_exporter": "python",
   "pygments_lexer": "ipython3",
   "version": "3.7.4"
  }
 },
 "nbformat": 4,
 "nbformat_minor": 4
}
